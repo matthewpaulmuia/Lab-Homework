{
 "cells": [
  {
   "cell_type": "markdown",
   "metadata": {},
   "source": [
    "## Week 5 Lab-Homework Assignment "
   ]
  },
  {
   "cell_type": "code",
   "execution_count": 26,
   "metadata": {
    "collapsed": false
   },
   "outputs": [],
   "source": [
    "import re\n",
    "contig_names = []\n",
    "sequence = []\n",
    "sequence_occurences = []\n",
    "relevant_data = []\n",
    "contig_sequenceDict = {}\n",
    "\n",
    "#print out the relevant data in a readable format\n",
    "original = open(\"Marra2014_data.fasta\")\n",
    "for lines in original:\n",
    "    split = lines.split(\" \")\n",
    "    data = split[0]\n",
    "    relevant_data = [data] \n",
    "    #print(relevant_data)\n",
    "    #data is config name and DNA sequence in a single field\n",
    "if (re.match(pattern=\">\", string=lines)):\n",
    "#now I need to seperate the contig numbers and sequences\n",
    "    contig_names = re.search(\">(\\w*)\\s.*\", str(relevant_data))\n",
    "    print(contig_names)\n",
    "#count AATGs in the file\n",
    "\n",
    "#store config names in list\n",
    "\n",
    "#store AATG counts in list\n",
    "\n",
    "#put two lists together into a single csv file\n"
   ]
  },
  {
   "cell_type": "code",
   "execution_count": null,
   "metadata": {
    "collapsed": true
   },
   "outputs": [],
   "source": []
  }
 ],
 "metadata": {
  "anaconda-cloud": {},
  "kernelspec": {
   "display_name": "Python [default]",
   "language": "python",
   "name": "python3"
  },
  "language_info": {
   "codemirror_mode": {
    "name": "ipython",
    "version": 3
   },
   "file_extension": ".py",
   "mimetype": "text/x-python",
   "name": "python",
   "nbconvert_exporter": "python",
   "pygments_lexer": "ipython3",
   "version": "3.5.2"
  }
 },
 "nbformat": 4,
 "nbformat_minor": 2
}
