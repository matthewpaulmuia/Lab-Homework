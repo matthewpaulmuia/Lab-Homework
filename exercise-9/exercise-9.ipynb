{
 "cells": [
  {
   "cell_type": "markdown",
   "metadata": {},
   "source": [
    "## Questions About Data\n",
    "1. There are 2946 fossil recors in this dataset.\n",
    "\n",
    "2. There have been 614 fossils identified to genus-level only.\n",
    "   There have been 2107 fossils identified to species-level only. \n",
    "\n",
    "3. There are 211 unique accepted names in the dataset.  \n",
    "\n",
    "## Questions About PyRate\n",
    "1. We can change the sampeling of frequency of our PyRate run by running the -s flag.\n",
    "\n",
    "2. The -n flag indicates the number of desired steps in an MCMC chain.\n",
    "\n",
    "## Questions About PyRate Output\n",
    "1. The canid_occ_1_marginal_rates.log file is a tab-separated table with the posterior samples of the marginal rates of speciation, extinction, and net diversification, calculated within 1 time unit (typically Myr). \n",
    "2. The canid_occ_1_mcmc.log file is a tab-separated table with the MCMC samples of the posterior, prior, likelihoods of the preservation process and of the birth-death (indicated by PP_lik and BD_lik, respectively), the preservation rate (q_rate), the shape parameter of its gamma-distributed heterogeneity (alpha), the number of sampled rate shifts (k_birth, k_death), the time of origin of the oldest lineage (root_age), the total branch length (tot_length), and the times of speciation and extinction of all taxa in the data set (\\_TS* and \\_TE, respectively). When using the TPP model of preservation, the preservation rates between shifts are indicated as *q_0, q_1, ... q_n (from older to younger).\n",
    "3. The canid_occ_1_sum.txt file is a text file providing the complete list of settings used in the analysis."
   ]
  },
  {
   "cell_type": "code",
   "execution_count": null,
   "metadata": {
    "collapsed": true
   },
   "outputs": [],
   "source": []
  }
 ],
 "metadata": {
  "anaconda-cloud": {},
  "kernelspec": {
   "display_name": "Python [default]",
   "language": "python",
   "name": "python3"
  },
  "language_info": {
   "codemirror_mode": {
    "name": "ipython",
    "version": 3
   },
   "file_extension": ".py",
   "mimetype": "text/x-python",
   "name": "python",
   "nbconvert_exporter": "python",
   "pygments_lexer": "ipython3",
   "version": "3.5.2"
  }
 },
 "nbformat": 4,
 "nbformat_minor": 2
}
